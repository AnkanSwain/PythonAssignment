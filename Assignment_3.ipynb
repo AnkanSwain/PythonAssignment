{
  "nbformat": 4,
  "nbformat_minor": 0,
  "metadata": {
    "colab": {
      "provenance": [],
      "collapsed_sections": [],
      "authorship_tag": "ABX9TyMAm8Va8a+OSQ0NxDPAaAmf",
      "include_colab_link": true
    },
    "kernelspec": {
      "name": "python3",
      "display_name": "Python 3"
    },
    "language_info": {
      "name": "python"
    }
  },
  "cells": [
    {
      "cell_type": "markdown",
      "metadata": {
        "id": "view-in-github",
        "colab_type": "text"
      },
      "source": [
        "<a href=\"https://colab.research.google.com/github/AnkanSwain/PythonAssignment/blob/main/Assignment_3.ipynb\" target=\"_parent\"><img src=\"https://colab.research.google.com/assets/colab-badge.svg\" alt=\"Open In Colab\"/></a>"
      ]
    },
    {
      "cell_type": "markdown",
      "source": [
        "# **Assignment 3**"
      ],
      "metadata": {
        "id": "nxKQvw3IhERO"
      }
    },
    {
      "cell_type": "markdown",
      "source": [
        "# **Q1** Capabilities of r+, w+ and a+"
      ],
      "metadata": {
        "id": "iE-_FozfpFx6"
      }
    },
    {
      "cell_type": "code",
      "source": [
        "with open(\"file.txt\",\"r\") as file1:\n",
        "  print(file1.read())"
      ],
      "metadata": {
        "colab": {
          "base_uri": "https://localhost:8080/"
        },
        "id": "kSPEG8q9uqBB",
        "outputId": "04f81f69-b818-4b71-cb54-b37d3438520b"
      },
      "execution_count": 28,
      "outputs": [
        {
          "output_type": "stream",
          "name": "stdout",
          "text": [
            "Ankan Swain\n",
            "Roll No. 19\n",
            "Last line of file\n"
          ]
        }
      ]
    },
    {
      "cell_type": "markdown",
      "source": [
        "Using **`r+`**"
      ],
      "metadata": {
        "id": "qGNoLVK3wC2g"
      }
    },
    {
      "cell_type": "code",
      "source": [
        "with open(\"file.txt\",\"r+\") as file1:\n",
        "  print(file1.read())\n",
        "  print(file1.write(\"\\nNew data in file\"))\n",
        "  file1.seek(0)\n",
        "  print(file1.read())"
      ],
      "metadata": {
        "colab": {
          "base_uri": "https://localhost:8080/"
        },
        "id": "M734Q7MyvV0X",
        "outputId": "8a7bd036-0fe4-4ee1-c1ed-d3e1b752d7aa"
      },
      "execution_count": 29,
      "outputs": [
        {
          "output_type": "stream",
          "name": "stdout",
          "text": [
            "Ankan Swain\n",
            "Roll No. 19\n",
            "Last line of file\n",
            "17\n",
            "Ankan Swain\n",
            "Roll No. 19\n",
            "Last line of file\n",
            "New data in file\n"
          ]
        }
      ]
    },
    {
      "cell_type": "markdown",
      "source": [
        "r+ allows reading and appends while using write()"
      ],
      "metadata": {
        "id": "1uQttgZ0wGWw"
      }
    },
    {
      "cell_type": "markdown",
      "source": [
        "Using **`w+`**"
      ],
      "metadata": {
        "id": "8aaUoDktwl1K"
      }
    },
    {
      "cell_type": "code",
      "source": [
        "with open(\"file.txt\",\"w+\") as file1:\n",
        "  print(file1.read())\n",
        "  print(file1.write(\"\\nNew data using w+\"))\n",
        "  file1.seek(0)\n",
        "  print(file1.read())"
      ],
      "metadata": {
        "colab": {
          "base_uri": "https://localhost:8080/"
        },
        "id": "hqeDkIsBwzQ-",
        "outputId": "0446b0b9-9de1-4be9-b462-0b7dc147d1a0"
      },
      "execution_count": 30,
      "outputs": [
        {
          "output_type": "stream",
          "name": "stdout",
          "text": [
            "\n",
            "18\n",
            "\n",
            "New data using w+\n"
          ]
        }
      ]
    },
    {
      "cell_type": "markdown",
      "source": [
        "w+ allows reading and writing"
      ],
      "metadata": {
        "id": "tGEOgxzBxHxD"
      }
    },
    {
      "cell_type": "markdown",
      "source": [
        "Using **`a+`**"
      ],
      "metadata": {
        "id": "eZJQ56FDxN9W"
      }
    },
    {
      "cell_type": "code",
      "source": [
        "with open(\"file.txt\",\"a+\") as file1:\n",
        "  print(file1.read())\n",
        "  print(file1.write(\"\\nNew data using a+\"))\n",
        "  file1.seek(0)\n",
        "  print(file1.read())"
      ],
      "metadata": {
        "colab": {
          "base_uri": "https://localhost:8080/"
        },
        "id": "LEwJkA4qxVjh",
        "outputId": "ed2cc76e-0f1a-4df5-809c-0c98108dfc08"
      },
      "execution_count": 31,
      "outputs": [
        {
          "output_type": "stream",
          "name": "stdout",
          "text": [
            "\n",
            "18\n",
            "\n",
            "New data using w+\n",
            "New data using a+\n"
          ]
        }
      ]
    },
    {
      "cell_type": "markdown",
      "source": [
        "a+ allows reading and appending"
      ],
      "metadata": {
        "id": "OWBINjmaxeLK"
      }
    },
    {
      "cell_type": "markdown",
      "source": [
        "# **Q2** Calculator"
      ],
      "metadata": {
        "id": "VFJf_EbNxueG"
      }
    },
    {
      "cell_type": "code",
      "source": [
        "def add():\n",
        "    with open(\"file2.txt\",\"a\") as myfile1:\n",
        "        print(f\"Sum of {x} and {y} is {x+y}\")\n",
        "        myfile1.write(f\"Sum of {x} and {y} is {x+y}\")\n",
        "\n",
        "\n",
        "def subtract():\n",
        "    with open(\"file2.txt\",\"a\") as myfile1:\n",
        "        print(f\"Difference of {x} and {y} is {x-y}\")\n",
        "        myfile1.write(f\"Difference of {x} and {y} is {x-y}\")\n",
        "\n",
        "\n",
        "def multiply():\n",
        "    with open(\"file2.txt\",\"a\") as myfile1:\n",
        "        print(f\"Product of {x} and {y} is {x*y}\")\n",
        "        myfile1.write(f\"Product of {x} and {y} is {x*y}\")\n",
        "\n",
        "\n",
        "def divide():\n",
        "    with open(\"file2.txt\",\"a\") as myfile1:\n",
        "        print(f\"Quotient of {x} and {y} is {x/y}\")\n",
        "        myfile1.write(f\"Quotient of {x} and {y} is {x/y}\")\n",
        "\n",
        "\n",
        "i = 0\n",
        "while(i<7):\n",
        "    x = int(input(\"\\nFirst Number: \"))\n",
        "    op = input(\"Operator: \")\n",
        "    y = int(input(\"Second Number: \"))\n",
        "\n",
        "    if(op == \"+\"):\n",
        "        add()\n",
        "    elif(op == \"-\"):\n",
        "        subtract()\n",
        "    elif(op == \"*\"):\n",
        "        multiply()\n",
        "    elif(op == \"/\"):\n",
        "        divide()\n",
        "\n",
        "    i += 1"
      ],
      "metadata": {
        "colab": {
          "base_uri": "https://localhost:8080/",
          "height": 727
        },
        "id": "GyvJD8H122FU",
        "outputId": "6806ae5d-682a-4480-9489-2afb57adec7a"
      },
      "execution_count": 32,
      "outputs": [
        {
          "output_type": "stream",
          "name": "stdout",
          "text": [
            "\n",
            "First Number: 7\n",
            "Operator: -\n",
            "Second Number: 2\n",
            "Difference of 7 and 2 is 5\n",
            "\n",
            "First Number: 2\n",
            "Operator: *\n",
            "Second Number: 7\n",
            "Product of 2 and 7 is 14\n",
            "\n",
            "First Number: 1\n",
            "Operator: +\n",
            "Second Number: 9\n",
            "Sum of 1 and 9 is 10\n",
            "\n",
            "First Number: 9\n",
            "Operator: /\n",
            "Second Number: 2\n",
            "Quotient of 9 and 2 is 4.5\n"
          ]
        },
        {
          "output_type": "error",
          "ename": "KeyboardInterrupt",
          "evalue": "ignored",
          "traceback": [
            "\u001b[0;31m---------------------------------------------------------------------------\u001b[0m",
            "\u001b[0;31mKeyboardInterrupt\u001b[0m                         Traceback (most recent call last)",
            "\u001b[0;32m<ipython-input-32-042765730c66>\u001b[0m in \u001b[0;36m<module>\u001b[0;34m\u001b[0m\n\u001b[1;32m     25\u001b[0m \u001b[0mi\u001b[0m \u001b[0;34m=\u001b[0m \u001b[0;36m0\u001b[0m\u001b[0;34m\u001b[0m\u001b[0;34m\u001b[0m\u001b[0m\n\u001b[1;32m     26\u001b[0m \u001b[0;32mwhile\u001b[0m\u001b[0;34m(\u001b[0m\u001b[0mi\u001b[0m\u001b[0;34m<\u001b[0m\u001b[0;36m7\u001b[0m\u001b[0;34m)\u001b[0m\u001b[0;34m:\u001b[0m\u001b[0;34m\u001b[0m\u001b[0;34m\u001b[0m\u001b[0m\n\u001b[0;32m---> 27\u001b[0;31m     \u001b[0mx\u001b[0m \u001b[0;34m=\u001b[0m \u001b[0mint\u001b[0m\u001b[0;34m(\u001b[0m\u001b[0minput\u001b[0m\u001b[0;34m(\u001b[0m\u001b[0;34m\"\\nFirst Number: \"\u001b[0m\u001b[0;34m)\u001b[0m\u001b[0;34m)\u001b[0m\u001b[0;34m\u001b[0m\u001b[0;34m\u001b[0m\u001b[0m\n\u001b[0m\u001b[1;32m     28\u001b[0m     \u001b[0mop\u001b[0m \u001b[0;34m=\u001b[0m \u001b[0minput\u001b[0m\u001b[0;34m(\u001b[0m\u001b[0;34m\"Operator: \"\u001b[0m\u001b[0;34m)\u001b[0m\u001b[0;34m\u001b[0m\u001b[0;34m\u001b[0m\u001b[0m\n\u001b[1;32m     29\u001b[0m     \u001b[0my\u001b[0m \u001b[0;34m=\u001b[0m \u001b[0mint\u001b[0m\u001b[0;34m(\u001b[0m\u001b[0minput\u001b[0m\u001b[0;34m(\u001b[0m\u001b[0;34m\"Second Number: \"\u001b[0m\u001b[0;34m)\u001b[0m\u001b[0;34m)\u001b[0m\u001b[0;34m\u001b[0m\u001b[0;34m\u001b[0m\u001b[0m\n",
            "\u001b[0;32m/usr/local/lib/python3.7/dist-packages/ipykernel/kernelbase.py\u001b[0m in \u001b[0;36mraw_input\u001b[0;34m(self, prompt)\u001b[0m\n\u001b[1;32m    861\u001b[0m             \u001b[0mself\u001b[0m\u001b[0;34m.\u001b[0m\u001b[0m_parent_ident\u001b[0m\u001b[0;34m,\u001b[0m\u001b[0;34m\u001b[0m\u001b[0;34m\u001b[0m\u001b[0m\n\u001b[1;32m    862\u001b[0m             \u001b[0mself\u001b[0m\u001b[0;34m.\u001b[0m\u001b[0m_parent_header\u001b[0m\u001b[0;34m,\u001b[0m\u001b[0;34m\u001b[0m\u001b[0;34m\u001b[0m\u001b[0m\n\u001b[0;32m--> 863\u001b[0;31m             \u001b[0mpassword\u001b[0m\u001b[0;34m=\u001b[0m\u001b[0;32mFalse\u001b[0m\u001b[0;34m,\u001b[0m\u001b[0;34m\u001b[0m\u001b[0;34m\u001b[0m\u001b[0m\n\u001b[0m\u001b[1;32m    864\u001b[0m         )\n\u001b[1;32m    865\u001b[0m \u001b[0;34m\u001b[0m\u001b[0m\n",
            "\u001b[0;32m/usr/local/lib/python3.7/dist-packages/ipykernel/kernelbase.py\u001b[0m in \u001b[0;36m_input_request\u001b[0;34m(self, prompt, ident, parent, password)\u001b[0m\n\u001b[1;32m    902\u001b[0m             \u001b[0;32mexcept\u001b[0m \u001b[0mKeyboardInterrupt\u001b[0m\u001b[0;34m:\u001b[0m\u001b[0;34m\u001b[0m\u001b[0;34m\u001b[0m\u001b[0m\n\u001b[1;32m    903\u001b[0m                 \u001b[0;31m# re-raise KeyboardInterrupt, to truncate traceback\u001b[0m\u001b[0;34m\u001b[0m\u001b[0;34m\u001b[0m\u001b[0;34m\u001b[0m\u001b[0m\n\u001b[0;32m--> 904\u001b[0;31m                 \u001b[0;32mraise\u001b[0m \u001b[0mKeyboardInterrupt\u001b[0m\u001b[0;34m(\u001b[0m\u001b[0;34m\"Interrupted by user\"\u001b[0m\u001b[0;34m)\u001b[0m \u001b[0;32mfrom\u001b[0m \u001b[0;32mNone\u001b[0m\u001b[0;34m\u001b[0m\u001b[0;34m\u001b[0m\u001b[0m\n\u001b[0m\u001b[1;32m    905\u001b[0m             \u001b[0;32mexcept\u001b[0m \u001b[0mException\u001b[0m \u001b[0;32mas\u001b[0m \u001b[0me\u001b[0m\u001b[0;34m:\u001b[0m\u001b[0;34m\u001b[0m\u001b[0;34m\u001b[0m\u001b[0m\n\u001b[1;32m    906\u001b[0m                 \u001b[0mself\u001b[0m\u001b[0;34m.\u001b[0m\u001b[0mlog\u001b[0m\u001b[0;34m.\u001b[0m\u001b[0mwarning\u001b[0m\u001b[0;34m(\u001b[0m\u001b[0;34m\"Invalid Message:\"\u001b[0m\u001b[0;34m,\u001b[0m \u001b[0mexc_info\u001b[0m\u001b[0;34m=\u001b[0m\u001b[0;32mTrue\u001b[0m\u001b[0;34m)\u001b[0m\u001b[0;34m\u001b[0m\u001b[0;34m\u001b[0m\u001b[0m\n",
            "\u001b[0;31mKeyboardInterrupt\u001b[0m: Interrupted by user"
          ]
        }
      ]
    }
  ]
}