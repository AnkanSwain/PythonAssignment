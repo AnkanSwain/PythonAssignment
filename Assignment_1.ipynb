{
  "nbformat": 4,
  "nbformat_minor": 0,
  "metadata": {
    "colab": {
      "provenance": [],
      "authorship_tag": "ABX9TyOcnwCapjnzqB3u44KLo9X/",
      "include_colab_link": true
    },
    "kernelspec": {
      "name": "python3",
      "display_name": "Python 3"
    },
    "language_info": {
      "name": "python"
    }
  },
  "cells": [
    {
      "cell_type": "markdown",
      "metadata": {
        "id": "view-in-github",
        "colab_type": "text"
      },
      "source": [
        "<a href=\"https://colab.research.google.com/github/AnkanSwain/PythonAssignment/blob/main/Assignment_1.ipynb\" target=\"_parent\"><img src=\"https://colab.research.google.com/assets/colab-badge.svg\" alt=\"Open In Colab\"/></a>"
      ]
    },
    {
      "cell_type": "markdown",
      "source": [
        "# **Assignment 1**"
      ],
      "metadata": {
        "id": "Brij4qLTy-xV"
      }
    },
    {
      "cell_type": "markdown",
      "source": [
        "# *List* and related operations"
      ],
      "metadata": {
        "id": "KzNzdTQ0zNrY"
      }
    },
    {
      "cell_type": "code",
      "source": [
        "my_list = [\"task\", \"september python batch\", False, 49]"
      ],
      "metadata": {
        "id": "Z3VfKB8CzSuc"
      },
      "execution_count": 1,
      "outputs": []
    },
    {
      "cell_type": "code",
      "source": [
        "print(type(my_list))\n",
        "\n",
        "print(type(my_list[0]))\n",
        "print(type(my_list[1]))\n",
        "print(type(my_list[2]))\n",
        "print(type(my_list[3]))"
      ],
      "metadata": {
        "colab": {
          "base_uri": "https://localhost:8080/"
        },
        "id": "ed8Aixdxzl_8",
        "outputId": "6da7da85-2a5a-4b7e-fa1c-a8202a47018d"
      },
      "execution_count": 10,
      "outputs": [
        {
          "output_type": "stream",
          "name": "stdout",
          "text": [
            "<class 'list'>\n",
            "<class 'str'>\n",
            "<class 'str'>\n",
            "<class 'bool'>\n",
            "<class 'int'>\n"
          ]
        }
      ]
    },
    {
      "cell_type": "code",
      "source": [
        "print(my_list)"
      ],
      "metadata": {
        "colab": {
          "base_uri": "https://localhost:8080/"
        },
        "id": "wnWAuFfe0Em5",
        "outputId": "b7f03dd3-497b-482d-c4b9-56b6deb677a7"
      },
      "execution_count": 6,
      "outputs": [
        {
          "output_type": "stream",
          "name": "stdout",
          "text": [
            "['task', 'september python batch', False, 49]\n"
          ]
        }
      ]
    },
    {
      "cell_type": "code",
      "source": [
        "#indexing\n",
        "print(my_list[2])"
      ],
      "metadata": {
        "colab": {
          "base_uri": "https://localhost:8080/"
        },
        "id": "arMLRu9Z0JjK",
        "outputId": "7d4badda-7f09-42a0-dcf0-5937b97bd8a7"
      },
      "execution_count": 7,
      "outputs": [
        {
          "output_type": "stream",
          "name": "stdout",
          "text": [
            "False\n"
          ]
        }
      ]
    },
    {
      "cell_type": "code",
      "source": [
        "#slicing\n",
        "print(my_list[0:4])\n",
        "print(my_list[1:3])"
      ],
      "metadata": {
        "colab": {
          "base_uri": "https://localhost:8080/"
        },
        "id": "3PnJ_BX90cmJ",
        "outputId": "53fec2cd-5a82-4274-cdcf-39a29b982ea7"
      },
      "execution_count": 8,
      "outputs": [
        {
          "output_type": "stream",
          "name": "stdout",
          "text": [
            "['task', 'september python batch', False, 49]\n",
            "['september python batch', False]\n"
          ]
        }
      ]
    },
    {
      "cell_type": "code",
      "source": [
        "#negative slicing\n",
        "print(my_list[-4:-1])\n",
        "print(my_list[-2:])"
      ],
      "metadata": {
        "colab": {
          "base_uri": "https://localhost:8080/"
        },
        "id": "e1hTWJfU09he",
        "outputId": "765d9ab3-aab5-44dc-fa38-877e1cedbdda"
      },
      "execution_count": 15,
      "outputs": [
        {
          "output_type": "stream",
          "name": "stdout",
          "text": [
            "['task', 'september python batch', False]\n",
            "[False, 49]\n"
          ]
        }
      ]
    },
    {
      "cell_type": "code",
      "source": [
        "#list of numbers and other methods\n",
        "num_list =  [2, 5, 14, 9, 7, 11, 17]"
      ],
      "metadata": {
        "id": "DEjeUtZO3jqD"
      },
      "execution_count": 25,
      "outputs": []
    },
    {
      "cell_type": "code",
      "source": [
        "print(num_list)\n",
        "\n",
        "print(\"After Sorting: \")\n",
        "num_list.sort()\n",
        "print(num_list)\n",
        "\n",
        "print(\"After reversing: \")\n",
        "num_list.reverse()\n",
        "print(num_list)"
      ],
      "metadata": {
        "colab": {
          "base_uri": "https://localhost:8080/"
        },
        "id": "rX3qt4vb1oER",
        "outputId": "3d26326a-0605-463f-ab57-fb6b36f58df5"
      },
      "execution_count": 26,
      "outputs": [
        {
          "output_type": "stream",
          "name": "stdout",
          "text": [
            "[2, 5, 14, 9, 7, 11, 17]\n",
            "After Sorting: \n",
            "[2, 5, 7, 9, 11, 14, 17]\n",
            "After reversing: \n",
            "[17, 14, 11, 9, 7, 5, 2]\n"
          ]
        }
      ]
    },
    {
      "cell_type": "code",
      "source": [
        "#inserting at some index\n",
        "num_list.insert(1, 15)\n",
        "print(num_list)\n",
        "\n",
        "#remove (uses given data)\n",
        "num_list.remove(5)\n",
        "print(num_list)\n",
        "\n",
        "#append\n",
        "num_list.append(10)\n",
        "print(num_list)\n",
        "\n",
        "#pop (uses given index)\n",
        "num_list.pop(4)\n",
        "print(num_list)"
      ],
      "metadata": {
        "colab": {
          "base_uri": "https://localhost:8080/"
        },
        "id": "iASr8vYf3aIn",
        "outputId": "e124b945-90a7-46b5-dd4b-0e8b7005eee0"
      },
      "execution_count": 27,
      "outputs": [
        {
          "output_type": "stream",
          "name": "stdout",
          "text": [
            "[17, 15, 14, 11, 9, 7, 5, 2]\n",
            "[17, 15, 14, 11, 9, 7, 2]\n",
            "[17, 15, 14, 11, 9, 7, 2, 10]\n",
            "[17, 15, 14, 11, 7, 2, 10]\n"
          ]
        }
      ]
    },
    {
      "cell_type": "code",
      "source": [
        "#updating\n",
        "num_list[0] = 18\n",
        "print(num_list)"
      ],
      "metadata": {
        "colab": {
          "base_uri": "https://localhost:8080/"
        },
        "id": "dru_6PYX32Bc",
        "outputId": "14b1ecf4-4f40-4b77-bbf1-8c7e891288c8"
      },
      "execution_count": 28,
      "outputs": [
        {
          "output_type": "stream",
          "name": "stdout",
          "text": [
            "[18, 15, 14, 11, 7, 2, 10]\n"
          ]
        }
      ]
    },
    {
      "cell_type": "markdown",
      "source": [
        "# Tuples"
      ],
      "metadata": {
        "id": "5k7DrAKI4LGw"
      }
    },
    {
      "cell_type": "markdown",
      "source": [
        "Immutable (i.e. data cannot be changed)"
      ],
      "metadata": {
        "id": "OiUIQlwI4Yel"
      }
    },
    {
      "cell_type": "code",
      "source": [
        "my_tuple = (\"Ankan\", 19, True)\n",
        "\n",
        "print(my_tuple)"
      ],
      "metadata": {
        "colab": {
          "base_uri": "https://localhost:8080/"
        },
        "id": "u6fONlnF4Zms",
        "outputId": "c06e0926-8154-425e-8610-906ffdb4f7d4"
      },
      "execution_count": 29,
      "outputs": [
        {
          "output_type": "stream",
          "name": "stdout",
          "text": [
            "('Ankan', 19, True)\n"
          ]
        }
      ]
    },
    {
      "cell_type": "code",
      "source": [
        "my_tuple.append(10)"
      ],
      "metadata": {
        "colab": {
          "base_uri": "https://localhost:8080/",
          "height": 165
        },
        "id": "OGHEUzP-4qEX",
        "outputId": "aaec867c-5dab-422c-d3b3-77b5404c3d6a"
      },
      "execution_count": 30,
      "outputs": [
        {
          "output_type": "error",
          "ename": "AttributeError",
          "evalue": "ignored",
          "traceback": [
            "\u001b[0;31m---------------------------------------------------------------------------\u001b[0m",
            "\u001b[0;31mAttributeError\u001b[0m                            Traceback (most recent call last)",
            "\u001b[0;32m<ipython-input-30-675e4763660c>\u001b[0m in \u001b[0;36m<module>\u001b[0;34m\u001b[0m\n\u001b[0;32m----> 1\u001b[0;31m \u001b[0mmy_tuple\u001b[0m\u001b[0;34m.\u001b[0m\u001b[0mappend\u001b[0m\u001b[0;34m(\u001b[0m\u001b[0;36m10\u001b[0m\u001b[0;34m)\u001b[0m\u001b[0;34m\u001b[0m\u001b[0;34m\u001b[0m\u001b[0m\n\u001b[0m",
            "\u001b[0;31mAttributeError\u001b[0m: 'tuple' object has no attribute 'append'"
          ]
        }
      ]
    },
    {
      "cell_type": "code",
      "source": [
        "my_tuple.reverse()"
      ],
      "metadata": {
        "colab": {
          "base_uri": "https://localhost:8080/",
          "height": 165
        },
        "id": "LlKfdyI042nR",
        "outputId": "b3ffc131-a133-48f7-ac0f-ba5e561ff3b7"
      },
      "execution_count": 31,
      "outputs": [
        {
          "output_type": "error",
          "ename": "AttributeError",
          "evalue": "ignored",
          "traceback": [
            "\u001b[0;31m---------------------------------------------------------------------------\u001b[0m",
            "\u001b[0;31mAttributeError\u001b[0m                            Traceback (most recent call last)",
            "\u001b[0;32m<ipython-input-31-33f520c0ecf3>\u001b[0m in \u001b[0;36m<module>\u001b[0;34m\u001b[0m\n\u001b[0;32m----> 1\u001b[0;31m \u001b[0mmy_tuple\u001b[0m\u001b[0;34m.\u001b[0m\u001b[0mreverse\u001b[0m\u001b[0;34m(\u001b[0m\u001b[0;34m)\u001b[0m\u001b[0;34m\u001b[0m\u001b[0;34m\u001b[0m\u001b[0m\n\u001b[0m",
            "\u001b[0;31mAttributeError\u001b[0m: 'tuple' object has no attribute 'reverse'"
          ]
        }
      ]
    },
    {
      "cell_type": "markdown",
      "source": [
        "No changes can be made to a Tuple"
      ],
      "metadata": {
        "id": "7_tp9Sv54yal"
      }
    },
    {
      "cell_type": "markdown",
      "source": [
        "# Dictionary"
      ],
      "metadata": {
        "id": "kiTltz6F5Jg3"
      }
    },
    {
      "cell_type": "code",
      "source": [
        "my_dict = {\n",
        "    \"name1\":\"Ankan\",\n",
        "    \"name2\":\"Ankit\",\n",
        "    \"name3\":\"Chandu\"\n",
        "}"
      ],
      "metadata": {
        "id": "j2tds6Ar5ZSA"
      },
      "execution_count": 43,
      "outputs": []
    },
    {
      "cell_type": "code",
      "source": [
        "print(my_dict)"
      ],
      "metadata": {
        "colab": {
          "base_uri": "https://localhost:8080/"
        },
        "id": "s8Qc3Y8r5qlZ",
        "outputId": "ba00af32-ba72-4d00-dfc4-15d5038b3d8c"
      },
      "execution_count": 44,
      "outputs": [
        {
          "output_type": "stream",
          "name": "stdout",
          "text": [
            "{'name1': 'Ankan', 'name2': 'Ankit', 'name3': 'Chandu'}\n"
          ]
        }
      ]
    },
    {
      "cell_type": "code",
      "source": [
        "print(my_dict[\"name2\"])"
      ],
      "metadata": {
        "colab": {
          "base_uri": "https://localhost:8080/"
        },
        "id": "LKFz9EMS58tH",
        "outputId": "bde16018-30e6-43af-8911-ffdab4a651f2"
      },
      "execution_count": 45,
      "outputs": [
        {
          "output_type": "stream",
          "name": "stdout",
          "text": [
            "Ankit\n"
          ]
        }
      ]
    },
    {
      "cell_type": "code",
      "source": [
        "my_dict.keys()"
      ],
      "metadata": {
        "colab": {
          "base_uri": "https://localhost:8080/"
        },
        "id": "9GujSLPR6EgG",
        "outputId": "38c7ce3f-801d-4a4e-9031-55151c0ec22b"
      },
      "execution_count": 46,
      "outputs": [
        {
          "output_type": "execute_result",
          "data": {
            "text/plain": [
              "dict_keys(['name1', 'name2', 'name3'])"
            ]
          },
          "metadata": {},
          "execution_count": 46
        }
      ]
    },
    {
      "cell_type": "code",
      "source": [
        "my_dict.values()"
      ],
      "metadata": {
        "colab": {
          "base_uri": "https://localhost:8080/"
        },
        "id": "2qu5FzNr6SZz",
        "outputId": "596a1c8b-c33d-45aa-9fb6-2915421e7a04"
      },
      "execution_count": 47,
      "outputs": [
        {
          "output_type": "execute_result",
          "data": {
            "text/plain": [
              "dict_values(['Ankan', 'Ankit', 'Chandu'])"
            ]
          },
          "metadata": {},
          "execution_count": 47
        }
      ]
    },
    {
      "cell_type": "code",
      "source": [
        "my_dict[\"name4\"] = \"Binu\"\n",
        "print(my_dict)"
      ],
      "metadata": {
        "colab": {
          "base_uri": "https://localhost:8080/"
        },
        "id": "mR-VOus867i_",
        "outputId": "7ca82670-5e78-425d-a40e-d6d12170ea14"
      },
      "execution_count": 48,
      "outputs": [
        {
          "output_type": "stream",
          "name": "stdout",
          "text": [
            "{'name1': 'Ankan', 'name2': 'Ankit', 'name3': 'Chandu', 'name4': 'Binu'}\n"
          ]
        }
      ]
    },
    {
      "cell_type": "code",
      "source": [
        "my_dict.get(\"name3\")"
      ],
      "metadata": {
        "colab": {
          "base_uri": "https://localhost:8080/",
          "height": 36
        },
        "id": "fMVzpLbH6-OU",
        "outputId": "4c40cfb6-bfb1-427c-c843-2265431620bf"
      },
      "execution_count": 49,
      "outputs": [
        {
          "output_type": "execute_result",
          "data": {
            "text/plain": [
              "'Chandu'"
            ],
            "application/vnd.google.colaboratory.intrinsic+json": {
              "type": "string"
            }
          },
          "metadata": {},
          "execution_count": 49
        }
      ]
    }
  ]
}